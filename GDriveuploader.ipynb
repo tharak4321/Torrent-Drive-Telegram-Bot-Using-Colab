{
  "nbformat": 4,
  "nbformat_minor": 0,
  "metadata": {
    "colab": {
      "name": "GDriveuploader.ipynb",
      "provenance": [],
      "collapsed_sections": []
    },
    "kernelspec": {
      "name": "python3",
      "display_name": "Python 3"
    }
  },
  "cells": [
    {
      "cell_type": "code",
      "metadata": {
        "id": "bjftbc-1ZRDY",
        "colab_type": "code",
        "colab": {
          "base_uri": "https://localhost:8080/",
          "height": 122
        },
        "outputId": "55e1516b-f44c-4d43-c3cb-f31785a55ad5"
      },
      "source": [
        "from google.colab import drive\n",
        "drive.mount('/content/drive')"
      ],
      "execution_count": 1,
      "outputs": [
        {
          "output_type": "stream",
          "text": [
            "Go to this URL in a browser: https://accounts.google.com/o/oauth2/auth?client_id=947318989803-6bn6qk8qdgf4n4g3pfee6491hc0brc4i.apps.googleusercontent.com&redirect_uri=urn%3aietf%3awg%3aoauth%3a2.0%3aoob&response_type=code&scope=email%20https%3a%2f%2fwww.googleapis.com%2fauth%2fdocs.test%20https%3a%2f%2fwww.googleapis.com%2fauth%2fdrive%20https%3a%2f%2fwww.googleapis.com%2fauth%2fdrive.photos.readonly%20https%3a%2f%2fwww.googleapis.com%2fauth%2fpeopleapi.readonly\n",
            "\n",
            "Enter your authorization code:\n",
            "4/1AX4XfWgx7Sf4NczsmH970izFxWNEE0nOYgW6IpsdMBpUHlnwIpmM1dtzeA8\n",
            "Mounted at /content/drive\n"
          ],
          "name": "stdout"
        }
      ]
    },
    {
      "cell_type": "code",
      "metadata": {
        "id": "wGqFJskhZ45U",
        "colab_type": "code",
        "colab": {
          "base_uri": "https://localhost:8080/",
          "height": 153
        },
        "outputId": "b70714bf-86a8-4200-ff31-467a471659a4"
      },
      "source": [
        "!apt install python3-libtorrent"
      ],
      "execution_count": 3,
      "outputs": [
        {
          "output_type": "stream",
          "text": [
            "Reading package lists... Done\n",
            "Building dependency tree       \n",
            "Reading state information... Done\n",
            "python3-libtorrent is already the newest version (1.1.5-1build1).\n",
            "The following package was automatically installed and is no longer required:\n",
            "  libnvidia-common-440\n",
            "Use 'apt autoremove' to remove it.\n",
            "0 upgraded, 0 newly installed, 0 to remove and 59 not upgraded.\n"
          ],
          "name": "stdout"
        }
      ]
    },
    {
      "cell_type": "code",
      "metadata": {
        "id": "bQ7L_BtiaJ4d",
        "colab_type": "code",
        "colab": {
          "base_uri": "https://localhost:8080/",
          "height": 34
        },
        "outputId": "27a0305c-02dd-4443-ddf5-80e249ba18bb"
      },
      "source": [
        "cd drive/My Drive"
      ],
      "execution_count": 7,
      "outputs": [
        {
          "output_type": "stream",
          "text": [
            "/content/drive/My Drive\n"
          ],
          "name": "stdout"
        }
      ]
    },
    {
      "cell_type": "code",
      "metadata": {
        "id": "_FQdr0mTaY-i",
        "colab_type": "code",
        "colab": {
          "base_uri": "https://localhost:8080/",
          "height": 406
        },
        "outputId": "70932248-e96a-4f4c-b51c-e8fe6319f95d"
      },
      "source": [
        "!python server.py"
      ],
      "execution_count": null,
      "outputs": [
        {
          "output_type": "stream",
          "text": [
            "magnet:?xt=urn:btih:0A10EDB6EB88FAC8A6933A2DEA53D8104CA81DCA&dn=Post+Malone+-+Hollywood%27s+Bleeding+%282019%29+Mp3+%28320kbps%29+%5BHunter%5D&tr=udp%3A%2F%2Ftracker.coppersurfer.tk%3A6969%2Fannounce&tr=udp%3A%2F%2F9.rarbg.to%3A2920%2Fannounce&tr=udp%3A%2F%2Ftracker.opentrackr.org%3A1337&tr=udp%3A%2F%2Ftracker.internetwarriors.net%3A1337%2Fannounce&tr=udp%3A%2F%2Ftracker.leechers-paradise.org%3A6969%2Fannounce&tr=udp%3A%2F%2Ftracker.coppersurfer.tk%3A6969%2Fannounce&tr=udp%3A%2F%2Ftracker.pirateparty.gr%3A6969%2Fannounce&tr=udp%3A%2F%2Ftracker.cyberia.is%3A6969%2Fannounce\n",
            "2020-06-28 20:34:03.107258\n",
            "Downloading Metadata...\n",
            "Got Metadata, Starting Torrent Download...\n",
            "Starting Post Malone - Hollywood's Bleeding (2019) Mp3 (320kbps) [Hunter]\n",
            "0.00% complete (down: 1.2 kb/s up: 0.4 kB/s peers: 5) downloading \n",
            "2.24% complete (down: 469.6 kb/s up: 16.8 kB/s peers: 12) downloading \n",
            "9.40% complete (down: 1694.7 kb/s up: 58.1 kB/s peers: 25) downloading \n",
            "20.42% complete (down: 2903.5 kb/s up: 96.1 kB/s peers: 31) downloading \n",
            "29.44% complete (down: 2924.6 kb/s up: 104.0 kB/s peers: 31) downloading \n",
            "39.06% complete (down: 3032.9 kb/s up: 111.8 kB/s peers: 30) downloading \n",
            "48.36% complete (down: 2865.9 kb/s up: 109.1 kB/s peers: 35) downloading \n",
            "57.39% complete (down: 2742.6 kb/s up: 107.7 kB/s peers: 46) downloading \n",
            "66.27% complete (down: 2691.9 kb/s up: 107.1 kB/s peers: 57) downloading \n",
            "75.77% complete (down: 2915.2 kb/s up: 112.9 kB/s peers: 97) downloading \n",
            "84.95% complete (down: 2891.8 kb/s up: 110.6 kB/s peers: 121) downloading \n",
            "94.16% complete (down: 2804.9 kb/s up: 104.6 kB/s peers: 82) downloading \n",
            "Post Malone - Hollywood's Bleeding (2019) Mp3 (320kbps) [Hunter] COMPLETE\n",
            "Elapsed Time:  1 min : 3 sec\n",
            "2020-06-28 20:35:07.101910\n"
          ],
          "name": "stdout"
        }
      ]
    }
  ]
}
